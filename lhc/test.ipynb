{
 "cells": [
  {
   "cell_type": "code",
   "execution_count": 6,
   "metadata": {},
   "outputs": [],
   "source": [
    "import os\n",
    "import time\n",
    "import pickle\n",
    "import numpy as np\n",
    "import multiprocessing as mp\n",
    "from IPython.display import SVG\n",
    "\n",
    "from pydrake.geometry import MeshcatVisualizer, MeshcatVisualizerParams, Role, StartMeshcat\n",
    "from pydrake.geometry.optimization import IrisInConfigurationSpace, IrisOptions\n",
    "from pydrake.multibody.parsing import LoadModelDirectives, Parser, ProcessModelDirectives\n",
    "from pydrake.multibody.plant import AddMultibodyPlantSceneGraph\n",
    "from pydrake.solvers import MosekSolver\n",
    "from pydrake.systems.framework import DiagramBuilder\n",
    "\n",
    "from gcs.linear import LinearGCS\n",
    "from gcs.rounding import randomForwardPathSearch\n",
    "from reproduction.prm_comparison.helpers import (\n",
    "    get_traj_length,\n",
    "    InverseKinematics,\n",
    "    make_traj,\n",
    "    visualize_trajectory\n",
    ")\n",
    "\n",
    "from reproduction.util import GcsDir, FindModelFile\n",
    "\n",
    "# mosek_license = MosekSolver.AcquireLicense()"
   ]
  },
  {
   "cell_type": "code",
   "execution_count": 5,
   "metadata": {},
   "outputs": [
    {
     "name": "stderr",
     "output_type": "stream",
     "text": [
      "INFO:drake:PackageMap: Downloading https://github.com/RobotLocomotion/models/archive/2c961001bc919203c70722363e3be9ea390d98aa.tar.gz\n"
     ]
    },
    {
     "name": "stdout",
     "output_type": "stream",
     "text": [
      "/home/lhc/opt/drake-build/install/lib/python3.10/site-packages/pydrake/common/../../../../../share/drake\n",
      "/home/lhc/.cache/drake/package_map/fc028ede0b3ecbabaf8a7bb6ae5a4321bbb0b1d313f79108b9ff2b2114ac5c8c-1c1ebb431b32afef1c7f9c4cbe79bedc90438bb9e2a71a2eb92b54ac0fd07585\n",
      "/home/lhc/lhc-gcs-science-robotics\n"
     ]
    }
   ],
   "source": [
    "builder = DiagramBuilder()\n",
    "plant, scene_graph = AddMultibodyPlantSceneGraph(builder, time_step=0.0)\n",
    "parser = Parser(plant)\n",
    "parser.package_map().Add(\"gcs\", GcsDir())\n",
    "# parser.package_map().GetPackageNames()\n",
    "print(parser.package_map().GetPath(\"drake\"))\n",
    "print(parser.package_map().GetPath(\"drake_models\"))\n",
    "print(parser.package_map().GetPath(\"gcs\"))"
   ]
  },
  {
   "cell_type": "code",
   "execution_count": 25,
   "metadata": {},
   "outputs": [
    {
     "name": "stderr",
     "output_type": "stream",
     "text": [
      "INFO:drake:Meshcat listening for connections at http://localhost:7002\n"
     ]
    },
    {
     "name": "stdout",
     "output_type": "stream",
     "text": [
      "{'__default__'}\n",
      "{'__default__'}\n",
      "{'__default__'}\n",
      "{'__default__'}\n",
      "{'__default__'}\n",
      "{'__default__'}\n",
      "{'__default__'}\n",
      "{'__default__'}\n",
      "{'__default__'}\n",
      "{'__default__'}\n",
      "{'__default__'}\n",
      "{'__default__'}\n",
      "{'__default__'}\n",
      "{'__default__'}\n",
      "{'__default__'}\n"
     ]
    }
   ],
   "source": [
    "from pydrake.geometry import SceneGraph, RoleAssign, MakePhongIllustrationProperties\n",
    "from pydrake.multibody.plant import MultibodyPlant\n",
    "meshcat = StartMeshcat()\n",
    "meshcat.Delete()\n",
    "builder = DiagramBuilder()\n",
    "plant, scene_graph = AddMultibodyPlantSceneGraph(builder, time_step=0.0)\n",
    "\n",
    "parser = Parser(plant, scene_graph)\n",
    "parser.package_map().Add(\"gcs\", GcsDir())\n",
    "\n",
    "directives_file = FindModelFile(\n",
    "    \"models/iiwa14_spheres_collision_welded_gripper.yaml\")\n",
    "directives = LoadModelDirectives(directives_file)\n",
    "iiwa, wsg, _, _, _, _ = ProcessModelDirectives(directives, plant, parser)\n",
    "\n",
    "# Set transparency of main arm and gripper.\n",
    "alpha = 0.7\n",
    "inspector = scene_graph.model_inspector()\n",
    "\n",
    "for body_id in plant.GetBodyIndices(iiwa.model_instance):\n",
    "    frame_id = plant.GetBodyFrameIdOrThrow(body_id)\n",
    "    for geometry_id in inspector.GetGeometries(frame_id,\n",
    "                                                Role.kIllustration):\n",
    "        properties = inspector.GetIllustrationProperties(geometry_id)\n",
    "        print(properties.GetGroupNames())\n",
    "        phone = MakePhongIllustrationProperties([0,0,1,0.5])\n",
    "        phong = phone.GetProperty(\"phong\", \"diffuse\")\n",
    "        phong.set(phong.r(), phong.g(), phong.b(), alpha)\n",
    "        properties.UpdateProperty(\"phong\", \"diffuse\", phong)\n",
    "        scene_graph.AssignRole(plant.get_source_id(), geometry_id,\n",
    "                                properties, RoleAssign.kReplace)\n",
    "plant.Finalize()\n",
    "visualizer = MeshcatVisualizer.AddToBuilder(builder, scene_graph, meshcat)"
   ]
  },
  {
   "cell_type": "code",
   "execution_count": 23,
   "metadata": {},
   "outputs": [],
   "source": [
    "diagram = builder.Build()\n",
    "\n",
    "context = diagram.CreateDefaultContext()\n"
   ]
  },
  {
   "cell_type": "code",
   "execution_count": 24,
   "metadata": {},
   "outputs": [],
   "source": [
    "diagram.ForcedPublish(context)"
   ]
  }
 ],
 "metadata": {
  "kernelspec": {
   "display_name": "Python 3",
   "language": "python",
   "name": "python3"
  },
  "language_info": {
   "codemirror_mode": {
    "name": "ipython",
    "version": 3
   },
   "file_extension": ".py",
   "mimetype": "text/x-python",
   "name": "python",
   "nbconvert_exporter": "python",
   "pygments_lexer": "ipython3",
   "version": "3.10.12"
  }
 },
 "nbformat": 4,
 "nbformat_minor": 2
}
