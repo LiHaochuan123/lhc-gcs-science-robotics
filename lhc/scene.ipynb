{
 "cells": [
  {
   "cell_type": "code",
   "execution_count": 1,
   "metadata": {},
   "outputs": [],
   "source": [
    "%load_ext autoreload\n",
    "%autoreload 2\n",
    "import os\n",
    "import time\n",
    "import pickle\n",
    "import numpy as np\n",
    "import multiprocessing as mp\n",
    "from IPython.display import SVG\n",
    "\n",
    "from pydrake.geometry import MeshcatVisualizer, MeshcatVisualizerParams, Role, StartMeshcat\n",
    "from pydrake.geometry.optimization import IrisInConfigurationSpace, IrisOptions\n",
    "from pydrake.multibody.parsing import LoadModelDirectives, Parser, ProcessModelDirectives\n",
    "from pydrake.multibody.plant import AddMultibodyPlantSceneGraph\n",
    "from pydrake.solvers import MosekSolver\n",
    "from pydrake.systems.framework import DiagramBuilder\n",
    "\n",
    "from gcs.linear import LinearGCS\n",
    "from gcs.rounding import randomForwardPathSearch\n",
    "from reproduction.prm_comparison.helpers import (\n",
    "    get_traj_length,\n",
    "    InverseKinematics,\n",
    "    make_traj,\n",
    "    visualize_trajectory\n",
    ")\n",
    "\n",
    "from reproduction.util import GcsDir, FindModelFile\n",
    "\n",
    "mosek_license = MosekSolver.AcquireLicense()"
   ]
  },
  {
   "cell_type": "code",
   "execution_count": 2,
   "metadata": {},
   "outputs": [
    {
     "name": "stderr",
     "output_type": "stream",
     "text": [
      "INFO:drake:Meshcat listening for connections at http://localhost:7000\n"
     ]
    }
   ],
   "source": [
    "# Start the visualizer (run this cell only once, each instance consumes a port)\n",
    "meshcat = StartMeshcat()"
   ]
  },
  {
   "cell_type": "code",
   "execution_count": 3,
   "metadata": {},
   "outputs": [],
   "source": [
    "SEED = 0\n",
    "np.random.seed(SEED)\n",
    "CORE_CNT = mp.cpu_count() # you may edit this."
   ]
  },
  {
   "cell_type": "code",
   "execution_count": 19,
   "metadata": {},
   "outputs": [],
   "source": [
    "meshcat.Delete()\n",
    "builder = DiagramBuilder()\n",
    "plant, scene_graph = AddMultibodyPlantSceneGraph(builder, time_step=0.0)\n",
    "parser = Parser(plant)\n",
    "parser.package_map().Add(\"gcs\", GcsDir())\n",
    "\n",
    "directives_file = FindModelFile(\"models/scene.yaml\")\n",
    "directives = LoadModelDirectives(directives_file)\n",
    "models = ProcessModelDirectives(directives, plant, parser)\n",
    "[iiwa, wsg, _,_,_,_,_,_,_,_] = models\n",
    "iiwa_idx = plant.GetModelInstanceByName(\"iiwa\")\n",
    "wsg_idx = plant.GetModelInstanceByName(\"wsg\")\n",
    "\n",
    "plant.Finalize()\n",
    "\n",
    "meshcat_params = MeshcatVisualizerParams()\n",
    "meshcat_params.delete_on_initialization_event = False\n",
    "meshcat_params.role = Role.kIllustration\n",
    "visualizer = MeshcatVisualizer.AddToBuilder(builder, scene_graph, meshcat,\n",
    "                                             meshcat_params)\n",
    "\n",
    "diagram = builder.Build()\n",
    "\n",
    "context = diagram.CreateDefaultContext()\n",
    "plant_context = plant.GetMyMutableContextFromRoot(context)\n",
    "q0 = [0, 0.2, 0, -2.1, 0, 1, 1.57]\n",
    "plant.SetPositions(plant_context, q0)\n",
    "diagram.ForcedPublish(context)"
   ]
  }
 ],
 "metadata": {
  "kernelspec": {
   "display_name": "usr",
   "language": "python",
   "name": "python3"
  },
  "language_info": {
   "codemirror_mode": {
    "name": "ipython",
    "version": 3
   },
   "file_extension": ".py",
   "mimetype": "text/x-python",
   "name": "python",
   "nbconvert_exporter": "python",
   "pygments_lexer": "ipython3",
   "version": "3.10.12"
  }
 },
 "nbformat": 4,
 "nbformat_minor": 2
}
