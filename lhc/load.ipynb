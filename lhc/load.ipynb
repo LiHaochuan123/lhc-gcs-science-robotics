{
 "cells": [
  {
   "cell_type": "code",
   "execution_count": null,
   "metadata": {},
   "outputs": [
    {
     "data": {
      "image/svg+xml": [
       "<svg xmlns=\"http://www.w3.org/2000/svg\" xmlns:xlink=\"http://www.w3.org/1999/xlink\" width=\"8pt\" height=\"8pt\" viewBox=\"0.00 0.00 8.00 8.00\">\n",
       "<g id=\"graph0\" class=\"graph\" transform=\"scale(1 1) rotate(0) translate(4 4)\">\n",
       "<title>GraphOfConvexSets</title>\n",
       "<polygon fill=\"white\" stroke=\"transparent\" points=\"-4,4 -4,-4 4,-4 4,4 -4,4\"/>\n",
       "</g>\n",
       "</svg>"
      ],
      "text/plain": [
       "<IPython.core.display.SVG object>"
      ]
     },
     "execution_count": 5,
     "metadata": {},
     "output_type": "execute_result"
    }
   ],
   "source": [
    "from IPython.display import SVG\n",
    "\n",
    "from pydrake.geometry.optimization import LoadIrisRegionsYamlFile\n",
    "\n",
    "from gcs.linear import LinearGCS\n",
    "from gcs.bezier import BezierGCS\n",
    "\n",
    "regions = LoadIrisRegionsYamlFile(\"/home/lhc/IRIS1.reg\")\n",
    "\n",
    "# 这里不能用BaseGCS是因为BaseGCS初始化不会建立图\n",
    "gcs = LinearGCS(regions)\n",
    "SVG(gcs.VisualizeGraph())"
   ]
  }
 ],
 "metadata": {
  "kernelspec": {
   "display_name": "usr",
   "language": "python",
   "name": "python3"
  },
  "language_info": {
   "codemirror_mode": {
    "name": "ipython",
    "version": 3
   },
   "file_extension": ".py",
   "mimetype": "text/x-python",
   "name": "python",
   "nbconvert_exporter": "python",
   "pygments_lexer": "ipython3",
   "version": "3.10.12"
  }
 },
 "nbformat": 4,
 "nbformat_minor": 2
}
