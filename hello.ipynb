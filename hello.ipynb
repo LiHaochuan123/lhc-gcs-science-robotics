{
 "cells": [
  {
   "cell_type": "markdown",
   "metadata": {},
   "source": [
    "# Setting"
   ]
  },
  {
   "cell_type": "markdown",
   "metadata": {},
   "source": [
    "## 从源码安装"
   ]
  },
  {
   "cell_type": "markdown",
   "metadata": {},
   "source": [
    "```bash\n",
    "# Get the sources.\n",
    "git clone --filter=blob:none https://github.com/RobotLocomotion/drake.git\n",
    "\n",
    "# Install the build dependencies.\n",
    "drake/setup/install_prereqs\n",
    "\n",
    "# Build and install using standard CMake commands.\n",
    "mkdir drake-build\n",
    "cd drake-build\n",
    "cmake -DWITH_MOSEK=ON ../drake\n",
    "make install\n",
    "```"
   ]
  },
  {
   "cell_type": "markdown",
   "metadata": {},
   "source": [
    "## 添加环境变量"
   ]
  },
  {
   "cell_type": "markdown",
   "metadata": {},
   "source": [
    "```bash\n",
    "export MOSEKLM_LICENSE_FILE=\"/tmp/mosek.lic\"\n",
    "\n",
    "export PYTHONPATH=\"/home/lhc/opt/drake-build/install/lib/python3.10/site-packages:${PYTHONPATH}\"\n",
    "```"
   ]
  }
 ],
 "metadata": {
  "kernelspec": {
   "display_name": "Python 3",
   "language": "python",
   "name": "python3"
  },
  "language_info": {
   "codemirror_mode": {
    "name": "ipython",
    "version": 3
   },
   "file_extension": ".py",
   "mimetype": "text/x-python",
   "name": "python",
   "nbconvert_exporter": "python",
   "pygments_lexer": "ipython3",
   "version": "3.10.12"
  }
 },
 "nbformat": 4,
 "nbformat_minor": 2
}
